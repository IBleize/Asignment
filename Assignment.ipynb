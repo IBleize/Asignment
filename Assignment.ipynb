{
 "cells": [
  {
   "cell_type": "markdown",
   "id": "58ad0df2",
   "metadata": {},
   "source": [
    "# 1 Assignment"
   ]
  },
  {
   "cell_type": "markdown",
   "id": "c7e46f9a",
   "metadata": {},
   "source": [
    "## Introduction for the assiggment:\n",
    "\n",
    "In this notebook, we will explore various tools and languages used in the field of data science. This course has introduced multiple data science tools, and in this final project, we will demonstrate our understanding and application of these tools using JupyterLite Notebook. The exercises will cover essential aspects of data science, including languages, libraries, and frameworks that are crucial for data analysis and machine learning. Through this project, we aim to consolidate our knowledge and showcase our skills in data science."
   ]
  },
  {
   "cell_type": "markdown",
   "id": "75b4d6d7",
   "metadata": {},
   "source": [
    "### Data Science Languages:\n",
    "\n",
    "- **Python:** Python is one of the most popular programming languages for data science due to its simplicity, versatility, and extensive ecosystem of libraries such as NumPy, Pandas, and Scikit-learn.\n",
    "\n",
    "- **R:** R is a programming language and software environment designed for statistical computing and graphics. It's widely used in academia and research for data analysis and visualization.\n",
    "\n",
    "- **SQL:** SQL (Structured Query Language) is a domain-specific language used for managing and manipulating relational databases. It's essential for querying, updating, and managing data stored in databases.\n",
    "\n",
    "- **Julia:** Julia is a high-level, high-performance programming language designed for numerical and scientific computing. It aims to combine the ease of use of languages like Python with the speed of languages like C or Fortran.\n",
    "\n",
    "- **C++:** high-level programming language that was developed as an extension of the C programming language.\n",
    "\n",
    "- **Scala:** Scala is a general-purpose programming language that runs on the Java Virtual Machine (JVM) and is known for its functional programming features. It's often used in conjunction with Apache Spark for large-scale data processing.\n",
    "\n",
    "- **Java:(with libraries like Weka):** Java is a widely used programming language with a rich ecosystem of libraries and frameworks. In data science, it's often used in conjunction with libraries like Weka for machine learning tasks."
   ]
  },
  {
   "cell_type": "markdown",
   "id": "ba1a2278",
   "metadata": {},
   "source": [
    "### Data Science Libraries:\n",
    "\n",
    "- **NumPy:** NumPy is a fundamental package for numerical computing with Python. It provides support for multidimensional arrays, along with a collection of mathematical functions to operate on these arrays.\n",
    "\n",
    "- **Pandas:** Pandas is a powerful library for data manipulation and analysis in Python. It offers data structures like DataFrame and Series, which make it easy to work with structured data and perform operations like filtering, grouping, and merging.\n",
    "\n",
    "- **Matplotlib:** Matplotlib is a comprehensive library for creating static, animated, and interactive visualizations in Python. It provides a MATLAB-like interface and supports a wide range of plots, including line plots, scatter plots, bar plots, histograms, and more.\n",
    "\n",
    "- **Seaborn:** Seaborn is a statistical data visualization library built on top of Matplotlib. It provides a high-level interface for creating attractive and informative statistical graphics, including complex visualizations like heatmaps, violin plots, and pair plots.\n",
    "\n",
    "- **Scikit-learn:** Scikit-learn is a versatile library for machine learning in Python. It includes a wide range of supervised and unsupervised learning algorithms, as well as utilities for model evaluation, hyperparameter tuning, and data preprocessing.\n",
    "\n",
    "- **TensorFlow:** TensorFlow is an open-source machine learning framework developed by Google. It's widely used for building and training deep learning models, particularly neural networks, and supports both high-level APIs like Keras and low-level operations for custom model development.\n",
    "\n",
    "- **PyTorch:** PyTorch is another popular deep learning framework that offers flexibility and speed for research and production. It provides dynamic computational graphs, which make it easy to define and modify models on-the-fly, along with strong GPU acceleration for training large models.\n",
    "\n",
    "- **SciPy:** SciPy is a collection of scientific computing tools for Python. It includes modules for optimization, integration, interpolation, signal processing, linear algebra, and more, making it a valuable library for a wide range of scientific and engineering applications.\n",
    "\n"
   ]
  },
  {
   "cell_type": "markdown",
   "id": "d8969b60",
   "metadata": {},
   "source": [
    "### Data Science Tools\n",
    "\n",
    "| Tool          | Description                                            |\n",
    "|---------------|--------------------------------------------------------|\n",
    "| Python        | General-purpose programming language with extensive     |\n",
    "|               | libraries for data manipulation, analysis, and          |\n",
    "|               | machine learning.                                      |\n",
    "| R             | Programming language and software environment for       |\n",
    "|               | statistical computing and graphics.                      |\n",
    "| SQL           | Domain-specific language for managing and manipulating |\n",
    "|               | relational databases.                                   |\n",
    "| Java       | Java is a widely used programming language with a rich ecosystem of libraries and frameworks    |\n",
    "|               | visualizations, and narrative text.                    |\n",
    "| MATLAB        | Proprietary programming language and environment for    |\n",
    "|               | numerical computing and visualization.                  |\n",
    "| Tableau       | Data visualization software that allows users to create |\n",
    "|               | interactive and shareable dashboards.                   |\n",
    "| Apache Spark  | Open-source distributed computing system used for big  |\n",
    "|               | data processing and analytics.                          |\n",
    "| KNIME         | Open-source data analytics, reporting, and integration |\n",
    "|               | platform.                                               |\n",
    "| RapidMiner    | Data science platform offering data prep, machine      |\n",
    "|               | learning, and predictive modeling tools.               |\n",
    "| SAS           | Software suite for advanced analytics, business        |\n",
    "|               | intelligence, and data management.                     |\n",
    "| Excel         | Spreadsheet software commonly used for data analysis   |\n",
    "|               | and visualization.                                      |\n",
    "\n"
   ]
  },
  {
   "cell_type": "markdown",
   "id": "42a547bc",
   "metadata": {},
   "source": [
    "\n",
    "## Arithmetic Expression Examples\n",
    "\n",
    "In this section, we will demonstrate some basic arithmetic expressions. Arithmetic expressions are used to perform mathematical operations such as addition, subtraction, multiplication, and division. Below, we will provide examples of these operations.\n",
    "\n"
   ]
  },
  {
   "cell_type": "code",
   "execution_count": 3,
   "id": "ee887318",
   "metadata": {},
   "outputs": [],
   "source": [
    "x = 2\n",
    "y = 3\n",
    "z1 = x*y\n",
    "z2= x+y"
   ]
  },
  {
   "cell_type": "code",
   "execution_count": 4,
   "id": "df4d4225",
   "metadata": {},
   "outputs": [
    {
     "name": "stdout",
     "output_type": "stream",
     "text": [
      "120 minutes is equal to 2.0 hours.\n"
     ]
    }
   ],
   "source": [
    "# Define a function to convert minutes to hours\n",
    "def minutes_to_hours(minutes):\n",
    "    hours = minutes / 60\n",
    "    return hours\n",
    "\n",
    "# Test the function\n",
    "minutes = 120\n",
    "hours = minutes_to_hours(minutes)\n",
    "print(f\"{minutes} minutes is equal to {hours} hours.\")"
   ]
  },
  {
   "cell_type": "markdown",
   "id": "d295df94",
   "metadata": {},
   "source": [
    "Objectives?"
   ]
  },
  {
   "cell_type": "markdown",
   "id": "7c6c7bb7",
   "metadata": {},
   "source": [
    "### Author:\n",
    "Your Name"
   ]
  },
  {
   "cell_type": "code",
   "execution_count": null,
   "id": "0fcb7851",
   "metadata": {},
   "outputs": [],
   "source": []
  }
 ],
 "metadata": {
  "kernelspec": {
   "display_name": "Python 3 (ipykernel)",
   "language": "python",
   "name": "python3"
  },
  "language_info": {
   "codemirror_mode": {
    "name": "ipython",
    "version": 3
   },
   "file_extension": ".py",
   "mimetype": "text/x-python",
   "name": "python",
   "nbconvert_exporter": "python",
   "pygments_lexer": "ipython3",
   "version": "3.8.10"
  }
 },
 "nbformat": 4,
 "nbformat_minor": 5
}
